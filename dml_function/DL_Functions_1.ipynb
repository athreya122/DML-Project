{
 "cells": [
  {
   "cell_type": "markdown",
   "id": "e2339ef6",
   "metadata": {},
   "source": [
    "Header Files"
   ]
  },
  {
   "cell_type": "code",
   "execution_count": 9,
   "id": "04e81525",
   "metadata": {},
   "outputs": [],
   "source": [
    "import numpy as np\n",
    "import torch\n",
    "import torch.nn as nn\n",
    "import torch.optim as optim\n",
    "import matplotlib.pyplot as plt"
   ]
  },
  {
   "cell_type": "markdown",
   "id": "60311bf4",
   "metadata": {},
   "source": [
    "Node definition"
   ]
  },
  {
   "cell_type": "code",
   "execution_count": null,
   "id": "bdc1a3bc",
   "metadata": {},
   "outputs": [],
   "source": [
    "class GRU_Node(nn.Module):\n",
    "    def __init__(self, input_size, hidden_size):\n",
    "        \"\"\"\n",
    "        Inputs:\n",
    "            input_size     - Dimensionality of the input of this RNN.\n",
    "            hidden_size    - Dimensionality of the hidden state.\n",
    "            output_size    - Dimensionality of the output of this RNN.\n",
    "        \"\"\"\n",
    "\n",
    "        super(GRU_Node, self).__init__()\n",
    "        self.hidden_size = hidden_size\n",
    "        \n",
    "        self.Wz = nn.Linear(input_size,hidden_size)\n",
    "        self.Uz = nn.Linear(hidden_size,hidden_size,bias = False)\n",
    "\n",
    "        self.Wr = nn.Linear(input_size,hidden_size)\n",
    "        self.Ur = nn.Linear(hidden_size,hidden_size,bias = False)\n",
    "\n",
    "        self.Wh = nn.Linear(input_size,hidden_size)\n",
    "        self.Ur = nn.Linear(hidden_size,hidden_size,bias = False)\n",
    "\n",
    "    def forward(self,x,h_prev):\n",
    "        # Npdate\n",
    "        zt = torch.sigmoid(self.Wz(x) + self.Uz(h_prev))\n",
    "        # reset\n",
    "        rt = torch.tanh(self.Wh(x) + self.Uh(rt*h_prev))\n",
    "        # cand. h\n",
    "        h_tilde = torch.tanh(self.Wh(x) + self.Uh(rt*h_prev))\n",
    "        #ht\n",
    "        ht = (1-zt)*h_prev + zt*h_tilde\n",
    "        \n",
    "        return ht"
   ]
  },
  {
   "cell_type": "markdown",
   "id": "08c60ec6",
   "metadata": {},
   "source": [
    "Layer Definition using Node, with final FC layer"
   ]
  },
  {
   "cell_type": "code",
   "execution_count": 6,
   "id": "abd7d780",
   "metadata": {},
   "outputs": [],
   "source": [
    "class GRULayer(nn.Module):\n",
    "    def __init__(self,input_size,hidden_size,output_size):\n",
    "        super(GRULayer,self).__init__()\n",
    "        self.hidden_size = hidden_size\n",
    "        self.gru_node = GRU_Node(input_size, hidden_size)\n",
    "        # final fully connected layer\n",
    "        self.fc = nn.Linear(hidden_size,output_size)\n",
    "\n",
    "    def forward(self,x):\n",
    "        #x_shape = (batch_size,seqeunce_length(no. of data you look back on),input_size(or feature size))\n",
    "        batch_size, seq_len, _ = x.size()\n",
    "        h = torch.zeros(batch_size,self.hidden_size)\n",
    "\n",
    "        h_vals = []\n",
    "        for t in range(seq_len):\n",
    "            xt = x[:,t,:]\n",
    "            h = self.gru_node(xt,h)\n",
    "            h_vals.append(h.unsqeeze(1))\n",
    "            output = self.fc(h)\n",
    "\n",
    "        h_vals = torch.cat(h_vals, dim=1)\n",
    "        return h_vals, h, output"
   ]
  },
  {
   "cell_type": "markdown",
   "id": "b58156e4",
   "metadata": {},
   "source": [
    "Training Method definition"
   ]
  },
  {
   "cell_type": "code",
   "execution_count": null,
   "id": "4476350e",
   "metadata": {},
   "outputs": [],
   "source": [
    "def train_n_validate(model,x_train, y_train, x_val,y_val, num_epochs, optimizer,loss_criterion,val_flag=0):\n",
    "    train_loss = []\n",
    "    val_loss = []\n",
    "\n",
    "    for epochs in range(num_epochs):\n",
    "        model.train()\n",
    "        optimizer.zero_grad()\n",
    "\n",
    "        y_pred = model(x_train)\n",
    "        train_loss = loss_criterion(y_pred,y_train)\n",
    "        train_loss.backward()\n",
    "        optimizer.step()\n",
    "        train_loss.append(train_loss.item())\n",
    "\n",
    "        print(f\"Epoch [{epochs+1}/{num_epochs}] - Train Loss: {train_loss.item():.4f}\", end='')\n",
    "\n",
    "        if val_flag == 1:\n",
    "            model.eval()\n",
    "            with torch.nograd():\n",
    "                y_val_pred = model(x_val)\n",
    "                val_loss = loss_criterion(y_val_pred,y_val)\n",
    "                val_loss.append(val_loss.item())    \n",
    "    \n",
    "    return y_pred, train_loss, val_loss\n"
   ]
  },
  {
   "cell_type": "markdown",
   "id": "4c0438c2",
   "metadata": {},
   "source": [
    "Plotting functions"
   ]
  },
  {
   "cell_type": "code",
   "execution_count": 11,
   "id": "094d629c",
   "metadata": {},
   "outputs": [],
   "source": [
    "def plot(x,y_act,y_pred):\n",
    "    plt.figure(figsize=(8, 4))\n",
    "    plt.plot(y_act.numpy(), label='True Capacity')\n",
    "    plt.plot(y_pred.numpy(), label='Predicted Capacity')\n",
    "    plt.title('Validation: True vs Predicted Battery Capacity')\n",
    "    plt.xlabel('Sample Index')\n",
    "    plt.ylabel('Capacity')\n",
    "    plt.legend()\n",
    "    plt.grid(True)\n",
    "    plt.show()"
   ]
  }
 ],
 "metadata": {
  "kernelspec": {
   "display_name": "myenv",
   "language": "python",
   "name": "python3"
  },
  "language_info": {
   "codemirror_mode": {
    "name": "ipython",
    "version": 3
   },
   "file_extension": ".py",
   "mimetype": "text/x-python",
   "name": "python",
   "nbconvert_exporter": "python",
   "pygments_lexer": "ipython3",
   "version": "3.10.18"
  }
 },
 "nbformat": 4,
 "nbformat_minor": 5
}
